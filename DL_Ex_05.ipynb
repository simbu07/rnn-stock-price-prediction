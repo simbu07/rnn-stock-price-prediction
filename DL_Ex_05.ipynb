{
  "cells": [
    {
      "cell_type": "code",
      "execution_count": 28,
      "metadata": {
        "id": "nS9c1Y3dxqUE"
      },
      "outputs": [],
      "source": [
        "import numpy as np\n",
        "import matplotlib.pyplot as plt\n",
        "import pandas as pd\n",
        "from sklearn.preprocessing import MinMaxScaler\n",
        "from keras import layers\n",
        "from keras.models import Sequential"
      ]
    },
    {
      "cell_type": "code",
      "execution_count": 29,
      "metadata": {
        "id": "Vaw108c-zHvU"
      },
      "outputs": [],
      "source": [
        "dataset_train = pd.read_csv('trainset.csv')"
      ]
    },
    {
      "cell_type": "code",
      "execution_count": 30,
      "metadata": {
        "colab": {
          "base_uri": "https://localhost:8080/"
        },
        "id": "TUxX_8_UzUs5",
        "outputId": "7944bdea-2f7d-4293-a88f-93bf176a38f1"
      },
      "outputs": [
        {
          "output_type": "execute_result",
          "data": {
            "text/plain": [
              "Index(['Date', 'Open', 'High', 'Low', 'Close', 'Adj Close', 'Volume'], dtype='object')"
            ]
          },
          "metadata": {},
          "execution_count": 30
        }
      ],
      "source": [
        "\n",
        "dataset_train.columns"
      ]
    },
    {
      "cell_type": "code",
      "execution_count": 5,
      "metadata": {
        "colab": {
          "base_uri": "https://localhost:8080/",
          "height": 206
        },
        "id": "rHnX601-zXPh",
        "outputId": "8c3aefab-ce62-4d83-a4e3-d1229f30f3c2"
      },
      "outputs": [
        {
          "output_type": "execute_result",
          "data": {
            "text/plain": [
              "         Date        Open        High         Low       Close   Adj Close  \\\n",
              "0  2013-01-02  357.385559  361.151062  355.959839  359.288177  359.288177   \n",
              "1  2013-01-03  360.122742  363.600128  358.031342  359.496826  359.496826   \n",
              "2  2013-01-04  362.313507  368.339294  361.488861  366.600616  366.600616   \n",
              "3  2013-01-07  365.348755  367.301056  362.929504  365.001007  365.001007   \n",
              "4  2013-01-08  365.393463  365.771027  359.874359  364.280701  364.280701   \n",
              "\n",
              "    Volume  \n",
              "0  5115500  \n",
              "1  4666500  \n",
              "2  5562800  \n",
              "3  3332900  \n",
              "4  3373900  "
            ],
            "text/html": [
              "\n",
              "  <div id=\"df-8a7f14ac-b217-4265-84e3-98c35fd05976\">\n",
              "    <div class=\"colab-df-container\">\n",
              "      <div>\n",
              "<style scoped>\n",
              "    .dataframe tbody tr th:only-of-type {\n",
              "        vertical-align: middle;\n",
              "    }\n",
              "\n",
              "    .dataframe tbody tr th {\n",
              "        vertical-align: top;\n",
              "    }\n",
              "\n",
              "    .dataframe thead th {\n",
              "        text-align: right;\n",
              "    }\n",
              "</style>\n",
              "<table border=\"1\" class=\"dataframe\">\n",
              "  <thead>\n",
              "    <tr style=\"text-align: right;\">\n",
              "      <th></th>\n",
              "      <th>Date</th>\n",
              "      <th>Open</th>\n",
              "      <th>High</th>\n",
              "      <th>Low</th>\n",
              "      <th>Close</th>\n",
              "      <th>Adj Close</th>\n",
              "      <th>Volume</th>\n",
              "    </tr>\n",
              "  </thead>\n",
              "  <tbody>\n",
              "    <tr>\n",
              "      <th>0</th>\n",
              "      <td>2013-01-02</td>\n",
              "      <td>357.385559</td>\n",
              "      <td>361.151062</td>\n",
              "      <td>355.959839</td>\n",
              "      <td>359.288177</td>\n",
              "      <td>359.288177</td>\n",
              "      <td>5115500</td>\n",
              "    </tr>\n",
              "    <tr>\n",
              "      <th>1</th>\n",
              "      <td>2013-01-03</td>\n",
              "      <td>360.122742</td>\n",
              "      <td>363.600128</td>\n",
              "      <td>358.031342</td>\n",
              "      <td>359.496826</td>\n",
              "      <td>359.496826</td>\n",
              "      <td>4666500</td>\n",
              "    </tr>\n",
              "    <tr>\n",
              "      <th>2</th>\n",
              "      <td>2013-01-04</td>\n",
              "      <td>362.313507</td>\n",
              "      <td>368.339294</td>\n",
              "      <td>361.488861</td>\n",
              "      <td>366.600616</td>\n",
              "      <td>366.600616</td>\n",
              "      <td>5562800</td>\n",
              "    </tr>\n",
              "    <tr>\n",
              "      <th>3</th>\n",
              "      <td>2013-01-07</td>\n",
              "      <td>365.348755</td>\n",
              "      <td>367.301056</td>\n",
              "      <td>362.929504</td>\n",
              "      <td>365.001007</td>\n",
              "      <td>365.001007</td>\n",
              "      <td>3332900</td>\n",
              "    </tr>\n",
              "    <tr>\n",
              "      <th>4</th>\n",
              "      <td>2013-01-08</td>\n",
              "      <td>365.393463</td>\n",
              "      <td>365.771027</td>\n",
              "      <td>359.874359</td>\n",
              "      <td>364.280701</td>\n",
              "      <td>364.280701</td>\n",
              "      <td>3373900</td>\n",
              "    </tr>\n",
              "  </tbody>\n",
              "</table>\n",
              "</div>\n",
              "      <button class=\"colab-df-convert\" onclick=\"convertToInteractive('df-8a7f14ac-b217-4265-84e3-98c35fd05976')\"\n",
              "              title=\"Convert this dataframe to an interactive table.\"\n",
              "              style=\"display:none;\">\n",
              "        \n",
              "  <svg xmlns=\"http://www.w3.org/2000/svg\" height=\"24px\"viewBox=\"0 0 24 24\"\n",
              "       width=\"24px\">\n",
              "    <path d=\"M0 0h24v24H0V0z\" fill=\"none\"/>\n",
              "    <path d=\"M18.56 5.44l.94 2.06.94-2.06 2.06-.94-2.06-.94-.94-2.06-.94 2.06-2.06.94zm-11 1L8.5 8.5l.94-2.06 2.06-.94-2.06-.94L8.5 2.5l-.94 2.06-2.06.94zm10 10l.94 2.06.94-2.06 2.06-.94-2.06-.94-.94-2.06-.94 2.06-2.06.94z\"/><path d=\"M17.41 7.96l-1.37-1.37c-.4-.4-.92-.59-1.43-.59-.52 0-1.04.2-1.43.59L10.3 9.45l-7.72 7.72c-.78.78-.78 2.05 0 2.83L4 21.41c.39.39.9.59 1.41.59.51 0 1.02-.2 1.41-.59l7.78-7.78 2.81-2.81c.8-.78.8-2.07 0-2.86zM5.41 20L4 18.59l7.72-7.72 1.47 1.35L5.41 20z\"/>\n",
              "  </svg>\n",
              "      </button>\n",
              "      \n",
              "  <style>\n",
              "    .colab-df-container {\n",
              "      display:flex;\n",
              "      flex-wrap:wrap;\n",
              "      gap: 12px;\n",
              "    }\n",
              "\n",
              "    .colab-df-convert {\n",
              "      background-color: #E8F0FE;\n",
              "      border: none;\n",
              "      border-radius: 50%;\n",
              "      cursor: pointer;\n",
              "      display: none;\n",
              "      fill: #1967D2;\n",
              "      height: 32px;\n",
              "      padding: 0 0 0 0;\n",
              "      width: 32px;\n",
              "    }\n",
              "\n",
              "    .colab-df-convert:hover {\n",
              "      background-color: #E2EBFA;\n",
              "      box-shadow: 0px 1px 2px rgba(60, 64, 67, 0.3), 0px 1px 3px 1px rgba(60, 64, 67, 0.15);\n",
              "      fill: #174EA6;\n",
              "    }\n",
              "\n",
              "    [theme=dark] .colab-df-convert {\n",
              "      background-color: #3B4455;\n",
              "      fill: #D2E3FC;\n",
              "    }\n",
              "\n",
              "    [theme=dark] .colab-df-convert:hover {\n",
              "      background-color: #434B5C;\n",
              "      box-shadow: 0px 1px 3px 1px rgba(0, 0, 0, 0.15);\n",
              "      filter: drop-shadow(0px 1px 2px rgba(0, 0, 0, 0.3));\n",
              "      fill: #FFFFFF;\n",
              "    }\n",
              "  </style>\n",
              "\n",
              "      <script>\n",
              "        const buttonEl =\n",
              "          document.querySelector('#df-8a7f14ac-b217-4265-84e3-98c35fd05976 button.colab-df-convert');\n",
              "        buttonEl.style.display =\n",
              "          google.colab.kernel.accessAllowed ? 'block' : 'none';\n",
              "\n",
              "        async function convertToInteractive(key) {\n",
              "          const element = document.querySelector('#df-8a7f14ac-b217-4265-84e3-98c35fd05976');\n",
              "          const dataTable =\n",
              "            await google.colab.kernel.invokeFunction('convertToInteractive',\n",
              "                                                     [key], {});\n",
              "          if (!dataTable) return;\n",
              "\n",
              "          const docLinkHtml = 'Like what you see? Visit the ' +\n",
              "            '<a target=\"_blank\" href=https://colab.research.google.com/notebooks/data_table.ipynb>data table notebook</a>'\n",
              "            + ' to learn more about interactive tables.';\n",
              "          element.innerHTML = '';\n",
              "          dataTable['output_type'] = 'display_data';\n",
              "          await google.colab.output.renderOutput(dataTable, element);\n",
              "          const docLink = document.createElement('div');\n",
              "          docLink.innerHTML = docLinkHtml;\n",
              "          element.appendChild(docLink);\n",
              "        }\n",
              "      </script>\n",
              "    </div>\n",
              "  </div>\n",
              "  "
            ]
          },
          "metadata": {},
          "execution_count": 5
        }
      ],
      "source": [
        "dataset_train.head()"
      ]
    },
    {
      "cell_type": "code",
      "execution_count": 32,
      "metadata": {
        "id": "lHbVFRpIzgZC"
      },
      "outputs": [],
      "source": [
        "train_set = dataset_train.iloc[:,1:2].values"
      ]
    },
    {
      "cell_type": "code",
      "execution_count": 33,
      "metadata": {
        "colab": {
          "base_uri": "https://localhost:8080/"
        },
        "id": "EmnC2y6iz3L5",
        "outputId": "e7a14678-a353-47a7-ad12-952b05c11c65"
      },
      "outputs": [
        {
          "output_type": "execute_result",
          "data": {
            "text/plain": [
              "numpy.ndarray"
            ]
          },
          "metadata": {},
          "execution_count": 33
        }
      ],
      "source": [
        "type(train_set)"
      ]
    },
    {
      "cell_type": "code",
      "execution_count": 34,
      "metadata": {
        "colab": {
          "base_uri": "https://localhost:8080/"
        },
        "id": "sReVS1XFz6Sq",
        "outputId": "e29dc4da-6130-4ae1-f73e-790bbcfe06b0"
      },
      "outputs": [
        {
          "output_type": "execute_result",
          "data": {
            "text/plain": [
              "(1259, 1)"
            ]
          },
          "metadata": {},
          "execution_count": 34
        }
      ],
      "source": [
        "train_set.shape"
      ]
    },
    {
      "cell_type": "code",
      "execution_count": 35,
      "metadata": {
        "id": "yRgjp31w1RAs"
      },
      "outputs": [],
      "source": [
        "sc = MinMaxScaler(feature_range=(0,1))\n",
        "training_set_scaled = sc.fit_transform(train_set)"
      ]
    },
    {
      "cell_type": "code",
      "execution_count": 36,
      "metadata": {
        "colab": {
          "base_uri": "https://localhost:8080/"
        },
        "id": "WwvMtarM1Smg",
        "outputId": "e83c8b83-0ae7-406c-b1d3-45a2c0fae9f2"
      },
      "outputs": [
        {
          "output_type": "execute_result",
          "data": {
            "text/plain": [
              "(1259, 1)"
            ]
          },
          "metadata": {},
          "execution_count": 36
        }
      ],
      "source": [
        "training_set_scaled.shape"
      ]
    },
    {
      "cell_type": "code",
      "execution_count": 37,
      "metadata": {
        "id": "tODPSXsdz9Cc"
      },
      "outputs": [],
      "source": [
        "X_train_array = []\n",
        "y_train_array = []\n",
        "for i in range(60, 1259):\n",
        "  X_train_array.append(training_set_scaled[i-60:i,0])\n",
        "  y_train_array.append(training_set_scaled[i,0])\n",
        "X_train, y_train = np.array(X_train_array), np.array(y_train_array)\n",
        "X_train1 = X_train.reshape((X_train.shape[0], X_train.shape[1],1))"
      ]
    },
    {
      "cell_type": "code",
      "source": [
        "length = 60\n",
        "n_features = 1"
      ],
      "metadata": {
        "id": "QGp-Y_HtaDfi"
      },
      "execution_count": 39,
      "outputs": []
    },
    {
      "cell_type": "code",
      "execution_count": 40,
      "metadata": {
        "colab": {
          "base_uri": "https://localhost:8080/"
        },
        "id": "kVp8fE880ODw",
        "outputId": "2ea8b8fe-a5a1-4428-c6f1-e3869f0aab6e"
      },
      "outputs": [
        {
          "output_type": "execute_result",
          "data": {
            "text/plain": [
              "(1199, 60)"
            ]
          },
          "metadata": {},
          "execution_count": 40
        }
      ],
      "source": [
        "X_train.shape"
      ]
    },
    {
      "cell_type": "code",
      "execution_count": 43,
      "metadata": {
        "colab": {
          "base_uri": "https://localhost:8080/"
        },
        "id": "fJRLYEkf0Vm_",
        "outputId": "58d6d148-977e-4b03-8b3c-ccb3ce4b30c6"
      },
      "outputs": [
        {
          "output_type": "stream",
          "name": "stdout",
          "text": [
            "Model: \"sequential_3\"\n",
            "_________________________________________________________________\n",
            " Layer (type)                Output Shape              Param #   \n",
            "=================================================================\n",
            " simple_rnn_3 (SimpleRNN)    (None, 60)                3720      \n",
            "                                                                 \n",
            " dense_3 (Dense)             (None, 1)                 61        \n",
            "                                                                 \n",
            "=================================================================\n",
            "Total params: 3,781\n",
            "Trainable params: 3,781\n",
            "Non-trainable params: 0\n",
            "_________________________________________________________________\n"
          ]
        }
      ],
      "source": [
        "model = Sequential()\n",
        "model.add(layers.SimpleRNN(60,input_shape=(60,1)))\n",
        "model.add(layers.Dense(1))\n",
        "model.compile(optimizer='adam', loss='mse')\n",
        "model.summary()"
      ]
    },
    {
      "cell_type": "code",
      "source": [
        "model.fit(X_train1,y_train,epochs=100, batch_size=32)\n"
      ],
      "metadata": {
        "colab": {
          "base_uri": "https://localhost:8080/"
        },
        "id": "1J4p2sosYlkK",
        "outputId": "cb49531d-f64e-40ff-dffd-cdfa62c2408a"
      },
      "execution_count": 44,
      "outputs": [
        {
          "output_type": "stream",
          "name": "stdout",
          "text": [
            "Epoch 1/100\n",
            "38/38 [==============================] - 2s 15ms/step - loss: 0.0070\n",
            "Epoch 2/100\n",
            "38/38 [==============================] - 1s 14ms/step - loss: 6.6205e-04\n",
            "Epoch 3/100\n",
            "38/38 [==============================] - 1s 14ms/step - loss: 5.6520e-04\n",
            "Epoch 4/100\n",
            "38/38 [==============================] - 1s 15ms/step - loss: 5.3652e-04\n",
            "Epoch 5/100\n",
            "38/38 [==============================] - 1s 15ms/step - loss: 4.9879e-04\n",
            "Epoch 6/100\n",
            "38/38 [==============================] - 1s 14ms/step - loss: 4.6097e-04\n",
            "Epoch 7/100\n",
            "38/38 [==============================] - 1s 15ms/step - loss: 4.4518e-04\n",
            "Epoch 8/100\n",
            "38/38 [==============================] - 1s 15ms/step - loss: 4.0826e-04\n",
            "Epoch 9/100\n",
            "38/38 [==============================] - 1s 13ms/step - loss: 4.4063e-04\n",
            "Epoch 10/100\n",
            "38/38 [==============================] - 1s 14ms/step - loss: 4.5822e-04\n",
            "Epoch 11/100\n",
            "38/38 [==============================] - 1s 14ms/step - loss: 3.7942e-04\n",
            "Epoch 12/100\n",
            "38/38 [==============================] - 1s 15ms/step - loss: 3.5135e-04\n",
            "Epoch 13/100\n",
            "38/38 [==============================] - 1s 14ms/step - loss: 3.4804e-04\n",
            "Epoch 14/100\n",
            "38/38 [==============================] - 1s 15ms/step - loss: 3.1842e-04\n",
            "Epoch 15/100\n",
            "38/38 [==============================] - 1s 14ms/step - loss: 3.1344e-04\n",
            "Epoch 16/100\n",
            "38/38 [==============================] - 1s 14ms/step - loss: 3.0581e-04\n",
            "Epoch 17/100\n",
            "38/38 [==============================] - 1s 14ms/step - loss: 3.1254e-04\n",
            "Epoch 18/100\n",
            "38/38 [==============================] - 1s 15ms/step - loss: 3.3198e-04\n",
            "Epoch 19/100\n",
            "38/38 [==============================] - 1s 14ms/step - loss: 3.1658e-04\n",
            "Epoch 20/100\n",
            "38/38 [==============================] - 1s 14ms/step - loss: 3.8309e-04\n",
            "Epoch 21/100\n",
            "38/38 [==============================] - 1s 14ms/step - loss: 2.7898e-04\n",
            "Epoch 22/100\n",
            "38/38 [==============================] - 1s 13ms/step - loss: 2.7683e-04\n",
            "Epoch 23/100\n",
            "38/38 [==============================] - 1s 14ms/step - loss: 2.7027e-04\n",
            "Epoch 24/100\n",
            "38/38 [==============================] - 1s 15ms/step - loss: 2.5888e-04\n",
            "Epoch 25/100\n",
            "38/38 [==============================] - 1s 15ms/step - loss: 2.5240e-04\n",
            "Epoch 26/100\n",
            "38/38 [==============================] - 1s 15ms/step - loss: 2.4435e-04\n",
            "Epoch 27/100\n",
            "38/38 [==============================] - 1s 15ms/step - loss: 2.5593e-04\n",
            "Epoch 28/100\n",
            "38/38 [==============================] - 1s 14ms/step - loss: 2.5948e-04\n",
            "Epoch 29/100\n",
            "38/38 [==============================] - 1s 14ms/step - loss: 2.6249e-04\n",
            "Epoch 30/100\n",
            "38/38 [==============================] - 1s 14ms/step - loss: 2.2648e-04\n",
            "Epoch 31/100\n",
            "38/38 [==============================] - 1s 14ms/step - loss: 2.7969e-04\n",
            "Epoch 32/100\n",
            "38/38 [==============================] - 1s 15ms/step - loss: 2.2726e-04\n",
            "Epoch 33/100\n",
            "38/38 [==============================] - 1s 15ms/step - loss: 2.1098e-04\n",
            "Epoch 34/100\n",
            "38/38 [==============================] - 1s 15ms/step - loss: 2.3325e-04\n",
            "Epoch 35/100\n",
            "38/38 [==============================] - 1s 14ms/step - loss: 2.2561e-04\n",
            "Epoch 36/100\n",
            "38/38 [==============================] - 1s 15ms/step - loss: 2.0132e-04\n",
            "Epoch 37/100\n",
            "38/38 [==============================] - 1s 15ms/step - loss: 2.0813e-04\n",
            "Epoch 38/100\n",
            "38/38 [==============================] - 1s 15ms/step - loss: 2.0449e-04\n",
            "Epoch 39/100\n",
            "38/38 [==============================] - 1s 14ms/step - loss: 2.0875e-04\n",
            "Epoch 40/100\n",
            "38/38 [==============================] - 1s 15ms/step - loss: 2.1491e-04\n",
            "Epoch 41/100\n",
            "38/38 [==============================] - 1s 13ms/step - loss: 1.9915e-04\n",
            "Epoch 42/100\n",
            "38/38 [==============================] - 1s 14ms/step - loss: 2.0245e-04\n",
            "Epoch 43/100\n",
            "38/38 [==============================] - 1s 13ms/step - loss: 1.8663e-04\n",
            "Epoch 44/100\n",
            "38/38 [==============================] - 1s 14ms/step - loss: 1.8764e-04\n",
            "Epoch 45/100\n",
            "38/38 [==============================] - 1s 14ms/step - loss: 2.0482e-04\n",
            "Epoch 46/100\n",
            "38/38 [==============================] - 1s 13ms/step - loss: 1.9899e-04\n",
            "Epoch 47/100\n",
            "38/38 [==============================] - 1s 15ms/step - loss: 1.9111e-04\n",
            "Epoch 48/100\n",
            "38/38 [==============================] - 1s 13ms/step - loss: 1.9376e-04\n",
            "Epoch 49/100\n",
            "38/38 [==============================] - 1s 15ms/step - loss: 1.9649e-04\n",
            "Epoch 50/100\n",
            "38/38 [==============================] - 1s 14ms/step - loss: 1.9263e-04\n",
            "Epoch 51/100\n",
            "38/38 [==============================] - 1s 14ms/step - loss: 1.9671e-04\n",
            "Epoch 52/100\n",
            "38/38 [==============================] - 1s 13ms/step - loss: 1.9501e-04\n",
            "Epoch 53/100\n",
            "38/38 [==============================] - 1s 15ms/step - loss: 1.8441e-04\n",
            "Epoch 54/100\n",
            "38/38 [==============================] - 1s 15ms/step - loss: 1.9218e-04\n",
            "Epoch 55/100\n",
            "38/38 [==============================] - 1s 15ms/step - loss: 1.7556e-04\n",
            "Epoch 56/100\n",
            "38/38 [==============================] - 1s 17ms/step - loss: 1.8936e-04\n",
            "Epoch 57/100\n",
            "38/38 [==============================] - 1s 14ms/step - loss: 1.8470e-04\n",
            "Epoch 58/100\n",
            "38/38 [==============================] - 1s 14ms/step - loss: 1.9704e-04\n",
            "Epoch 59/100\n",
            "38/38 [==============================] - 1s 14ms/step - loss: 2.1804e-04\n",
            "Epoch 60/100\n",
            "38/38 [==============================] - 1s 14ms/step - loss: 2.0452e-04\n",
            "Epoch 61/100\n",
            "38/38 [==============================] - 1s 13ms/step - loss: 2.0569e-04\n",
            "Epoch 62/100\n",
            "38/38 [==============================] - 1s 14ms/step - loss: 1.9059e-04\n",
            "Epoch 63/100\n",
            "38/38 [==============================] - 1s 14ms/step - loss: 1.7178e-04\n",
            "Epoch 64/100\n",
            "38/38 [==============================] - 1s 15ms/step - loss: 1.8636e-04\n",
            "Epoch 65/100\n",
            "38/38 [==============================] - 1s 14ms/step - loss: 2.3312e-04\n",
            "Epoch 66/100\n",
            "38/38 [==============================] - 1s 15ms/step - loss: 1.9641e-04\n",
            "Epoch 67/100\n",
            "38/38 [==============================] - 1s 14ms/step - loss: 2.0563e-04\n",
            "Epoch 68/100\n",
            "38/38 [==============================] - 1s 15ms/step - loss: 1.6574e-04\n",
            "Epoch 69/100\n",
            "38/38 [==============================] - 1s 14ms/step - loss: 1.7663e-04\n",
            "Epoch 70/100\n",
            "38/38 [==============================] - 1s 15ms/step - loss: 1.8876e-04\n",
            "Epoch 71/100\n",
            "38/38 [==============================] - 1s 15ms/step - loss: 1.8977e-04\n",
            "Epoch 72/100\n",
            "38/38 [==============================] - 1s 14ms/step - loss: 1.9617e-04\n",
            "Epoch 73/100\n",
            "38/38 [==============================] - 1s 15ms/step - loss: 1.8307e-04\n",
            "Epoch 74/100\n",
            "38/38 [==============================] - 1s 15ms/step - loss: 2.3081e-04\n",
            "Epoch 75/100\n",
            "38/38 [==============================] - 1s 15ms/step - loss: 1.8780e-04\n",
            "Epoch 76/100\n",
            "38/38 [==============================] - 1s 15ms/step - loss: 1.6255e-04\n",
            "Epoch 77/100\n",
            "38/38 [==============================] - 1s 14ms/step - loss: 1.7980e-04\n",
            "Epoch 78/100\n",
            "38/38 [==============================] - 1s 17ms/step - loss: 1.8976e-04\n",
            "Epoch 79/100\n",
            "38/38 [==============================] - 1s 14ms/step - loss: 1.8138e-04\n",
            "Epoch 80/100\n",
            "38/38 [==============================] - 1s 14ms/step - loss: 1.9503e-04\n",
            "Epoch 81/100\n",
            "38/38 [==============================] - 1s 14ms/step - loss: 1.7303e-04\n",
            "Epoch 82/100\n",
            "38/38 [==============================] - 1s 15ms/step - loss: 1.7220e-04\n",
            "Epoch 83/100\n",
            "38/38 [==============================] - 1s 14ms/step - loss: 1.6736e-04\n",
            "Epoch 84/100\n",
            "38/38 [==============================] - 1s 14ms/step - loss: 1.7068e-04\n",
            "Epoch 85/100\n",
            "38/38 [==============================] - 1s 14ms/step - loss: 1.7915e-04\n",
            "Epoch 86/100\n",
            "38/38 [==============================] - 1s 15ms/step - loss: 1.6756e-04\n",
            "Epoch 87/100\n",
            "38/38 [==============================] - 1s 15ms/step - loss: 1.5888e-04\n",
            "Epoch 88/100\n",
            "38/38 [==============================] - 1s 14ms/step - loss: 1.6473e-04\n",
            "Epoch 89/100\n",
            "38/38 [==============================] - 1s 15ms/step - loss: 1.6861e-04\n",
            "Epoch 90/100\n",
            "38/38 [==============================] - 1s 14ms/step - loss: 1.8248e-04\n",
            "Epoch 91/100\n",
            "38/38 [==============================] - 1s 14ms/step - loss: 1.7030e-04\n",
            "Epoch 92/100\n",
            "38/38 [==============================] - 1s 15ms/step - loss: 1.5824e-04\n",
            "Epoch 93/100\n",
            "38/38 [==============================] - 1s 15ms/step - loss: 1.6236e-04\n",
            "Epoch 94/100\n",
            "38/38 [==============================] - 1s 15ms/step - loss: 1.6286e-04\n",
            "Epoch 95/100\n",
            "38/38 [==============================] - 1s 14ms/step - loss: 1.6548e-04\n",
            "Epoch 96/100\n",
            "38/38 [==============================] - 1s 14ms/step - loss: 1.6380e-04\n",
            "Epoch 97/100\n",
            "38/38 [==============================] - 1s 14ms/step - loss: 1.6050e-04\n",
            "Epoch 98/100\n",
            "38/38 [==============================] - 1s 14ms/step - loss: 1.6106e-04\n",
            "Epoch 99/100\n",
            "38/38 [==============================] - 1s 14ms/step - loss: 1.7394e-04\n",
            "Epoch 100/100\n",
            "38/38 [==============================] - 1s 14ms/step - loss: 1.6985e-04\n"
          ]
        },
        {
          "output_type": "execute_result",
          "data": {
            "text/plain": [
              "<keras.callbacks.History at 0x7f0835d07e90>"
            ]
          },
          "metadata": {},
          "execution_count": 44
        }
      ]
    },
    {
      "cell_type": "code",
      "source": [
        "dataset_test = pd.read_csv('testset.csv')"
      ],
      "metadata": {
        "id": "HaQkP4VSajoR"
      },
      "execution_count": 45,
      "outputs": []
    },
    {
      "cell_type": "code",
      "source": [
        "test_set = dataset_test.iloc[:,1:2].values"
      ],
      "metadata": {
        "id": "CYPAYBnxalLI"
      },
      "execution_count": 46,
      "outputs": []
    },
    {
      "cell_type": "code",
      "source": [
        "\n",
        "test_set.shape"
      ],
      "metadata": {
        "colab": {
          "base_uri": "https://localhost:8080/"
        },
        "id": "1r3XMicRamkI",
        "outputId": "d87de8e1-861e-4ea1-af02-2349a0ed1f16"
      },
      "execution_count": 47,
      "outputs": [
        {
          "output_type": "execute_result",
          "data": {
            "text/plain": [
              "(125, 1)"
            ]
          },
          "metadata": {},
          "execution_count": 47
        }
      ]
    },
    {
      "cell_type": "code",
      "source": [
        "dataset_total = pd.concat((dataset_train['Open'],dataset_test['Open']),axis=0)"
      ],
      "metadata": {
        "id": "yv15NQVqaoTI"
      },
      "execution_count": 48,
      "outputs": []
    },
    {
      "cell_type": "code",
      "source": [
        "inputs = dataset_total.values\n",
        "inputs = inputs.reshape(-1,1)\n",
        "inputs_scaled=sc.transform(inputs)\n",
        "X_test = []\n",
        "for i in range(60,1384):\n",
        "  X_test.append(inputs_scaled[i-60:i,0])\n",
        "X_test = np.array(X_test)\n",
        "X_test = np.reshape(X_test,(X_test.shape[0], X_test.shape[1],1))\n"
      ],
      "metadata": {
        "id": "ThNo_hntaq14"
      },
      "execution_count": 49,
      "outputs": []
    },
    {
      "cell_type": "code",
      "source": [
        "X_test.shape"
      ],
      "metadata": {
        "colab": {
          "base_uri": "https://localhost:8080/"
        },
        "id": "l2RYKYAeasjo",
        "outputId": "4670f91f-4cba-4a08-a09c-a144770be062"
      },
      "execution_count": 50,
      "outputs": [
        {
          "output_type": "execute_result",
          "data": {
            "text/plain": [
              "(1324, 60, 1)"
            ]
          },
          "metadata": {},
          "execution_count": 50
        }
      ]
    },
    {
      "cell_type": "code",
      "source": [
        "predicted_stock_price_scaled = model.predict(X_test)\n",
        "predicted_stock_price = sc.inverse_transform(predicted_stock_price_scaled)\n"
      ],
      "metadata": {
        "id": "yeER8Irxau8w"
      },
      "execution_count": 51,
      "outputs": []
    },
    {
      "cell_type": "code",
      "source": [],
      "metadata": {
        "colab": {
          "base_uri": "https://localhost:8080/",
          "height": 295
        },
        "id": "qYhG60FgaxWA",
        "outputId": "dc6fc2fc-0185-4881-c60a-b420d70c316c"
      },
      "execution_count": 52,
      "outputs": [
        {
          "output_type": "display_data",
          "data": {
            "text/plain": [
              "<Figure size 432x288 with 1 Axes>"
            ],
            "image/png": "[encoded data removed]"
          },
          "metadata": {
            "needs_background": "light"
          }
        }
      ]
    }
  ],
  "metadata": {
    "colab": {
      "provenance": [],
      "collapsed_sections": []
    },
    "kernelspec": {
      "display_name": "Python 3",
      "name": "python3"
    },
    "language_info": {
      "name": "python"
    }
  },
  "nbformat": 4,
  "nbformat_minor": 0
}